{
 "cells": [
  {
   "cell_type": "markdown",
   "metadata": {},
   "source": [
    "# Graph Theory and NetworkX - Part 2: Connectivity and Distance\n",
    "\n",
    "In the next post in this series, we will be introducing the concept of **network centrality**, which introduces measures of importance for network components. In order to prepare for this, in this post, we will look at **network connectivity** and at how to measure **distances** in a graph. "
   ]
  },
  {
   "cell_type": "code",
   "execution_count": 1,
   "metadata": {},
   "outputs": [],
   "source": [
    "# import modules\n",
    "import networkx as nx\n",
    "import matplotlib.pyplot as plt\n",
    "%matplotlib inline"
   ]
  },
  {
   "cell_type": "markdown",
   "metadata": {},
   "source": [
    "## Connectivity\n",
    "\n",
    "An *undirected* graph is called **connected** if you can get from every node to every other node in the network. A graph where this is not possible is called **unconnected**. In the figure below, the graph on the left is connected, whilst the graph on the right is unconnected. "
   ]
  },
  {
   "cell_type": "code",
   "execution_count": 2,
   "metadata": {},
   "outputs": [],
   "source": [
    "# Creating fully connected example graph\n",
    "G = nx.Graph()\n",
    "G.add_edges_from([(0,1), (0,2), (1,2), (1,3)])\n",
    "\n",
    "# Creating unconnected example graph\n",
    "G_un = nx.Graph()\n",
    "G_un.add_edges_from([(0,1), (0,2), (1,2), (1,3), (4,5)])\n",
    "\n",
    "# Positions for plotting\n",
    "pos1 = {2:(-1, 0), 0:(1,0), 1:(0, 0.5), 3:(0,1.2)}\n",
    "pos2 = {2:(-1, 0), 0:(1,0), 1:(0, 0.5), 3:(0,1.2), 4:(1,0.7), 5:(1,1)}"
   ]
  },
  {
   "cell_type": "code",
   "execution_count": 3,
   "metadata": {},
   "outputs": [
    {
     "data": {
      "image/png": "[encoded data removed]",
      "text/plain": [
       "<matplotlib.figure.Figure at 0xadd5064c>"
      ]
     },
     "metadata": {},
     "output_type": "display_data"
    }
   ],
   "source": [
    "# Plotting fully connected and unconnected example graphs\n",
    "plt.figure()\n",
    "\n",
    "# fully connected\n",
    "plt.subplot(121)\n",
    "plt.axis('off')\n",
    "plt.title('Fully connected graph')\n",
    "nx.draw_networkx(G, pos1)\n",
    "\n",
    "# unconnected\n",
    "plt.subplot(122)\n",
    "plt.axis('off')\n",
    "plt.title('Unconnected graph')\n",
    "nx.draw_networkx(G_un, pos2, node_color='blue')\n",
    "\n",
    "plt.savefig('graph-theory-and-networkx-part2-fig1.eps')\n",
    "plt.show()"
   ]
  },
  {
   "cell_type": "markdown",
   "metadata": {},
   "source": [
    "In networkX we can use the function `is_connected(G)` to check if a graph is connected:"
   ]
  },
  {
   "cell_type": "code",
   "execution_count": 4,
   "metadata": {},
   "outputs": [
    {
     "data": {
      "text/plain": [
       "True"
      ]
     },
     "execution_count": 4,
     "metadata": {},
     "output_type": "execute_result"
    }
   ],
   "source": [
    "nx.is_connected(G)"
   ]
  },
  {
   "cell_type": "markdown",
   "metadata": {},
   "source": [
    "For *directed graphs* we distinguish between strong and weak connectivitiy. A *directed* graph is called **strongly connected** if again we can get from every node to every other node (obeying the directions of the edges). We call the graph **weakly connected** if its undirected version is connected. The graph below is weakly connected, but not strongly connected (the edge goes from the thinner to the wider part) - ignoring the edge directions, you can get from anywhere to anywhere else, taking into account edge directions, the only possibilities of movement are from 0 to 1 to 2."
   ]
  },
  {
   "cell_type": "code",
   "execution_count": 5,
   "metadata": {
    "scrolled": false
   },
   "outputs": [
    {
     "data": {
      "image/png": "[encoded data removed]",
      "text/plain": [
       "<matplotlib.figure.Figure at 0xac61624c>"
      ]
     },
     "metadata": {},
     "output_type": "display_data"
    }
   ],
   "source": [
    "# Create directed example graph\n",
    "G2 = nx.DiGraph()\n",
    "G2.add_edges_from([(0,1), (1,2)])\n",
    "\n",
    "# Plot directed example graph at fixed positions\n",
    "pos = {0:(0,0), 1:(1,1), 2:(2,0)}\n",
    "plt.axis('off')\n",
    "nx.draw_networkx(G2, pos)\n",
    "plt.savefig('graph-theory-and-networkx-part2-fig2.eps')\n",
    "plt.show()"
   ]
  },
  {
   "cell_type": "markdown",
   "metadata": {},
   "source": [
    "In networkX, the corresponding functions are `is_weakly_connected()` and `is_strongly_connected()`:"
   ]
  },
  {
   "cell_type": "code",
   "execution_count": 6,
   "metadata": {},
   "outputs": [
    {
     "name": "stdout",
     "output_type": "stream",
     "text": [
      "True\n",
      "False\n"
     ]
    }
   ],
   "source": [
    "print(nx.is_weakly_connected(G2))\n",
    "print(nx.is_strongly_connected(G2))"
   ]
  },
  {
   "cell_type": "markdown",
   "metadata": {},
   "source": [
    "In an undirected graph, we can check for the number of **connected components** and return a list of tuples, each containing one component using the functions `number_connected_components()` and `connected_components()`:"
   ]
  },
  {
   "cell_type": "code",
   "execution_count": 7,
   "metadata": {},
   "outputs": [
    {
     "name": "stdout",
     "output_type": "stream",
     "text": [
      "2\n",
      "[{0, 1, 2, 3}, {4, 5}]\n"
     ]
    }
   ],
   "source": [
    "print(nx.number_connected_components(G_un))\n",
    "print(list(nx.connected_components(G_un)))"
   ]
  },
  {
   "cell_type": "markdown",
   "metadata": {},
   "source": [
    "If we want to be more specific and know which are the other nodes a specific node is connected to, we use the `node_connected_component()` function:"
   ]
  },
  {
   "cell_type": "code",
   "execution_count": 8,
   "metadata": {},
   "outputs": [
    {
     "data": {
      "text/plain": [
       "{4, 5}"
      ]
     },
     "execution_count": 8,
     "metadata": {},
     "output_type": "execute_result"
    }
   ],
   "source": [
    "nx.node_connected_component(G_un, 5)"
   ]
  },
  {
   "cell_type": "markdown",
   "metadata": {},
   "source": [
    "## Network Stability\n",
    "\n",
    "If we are interested in network stability we might want to find out how many edges or nodes we need to remove from a graph to disconnected and which ones they are. Let's look at the edges of the following, completely connected graph."
   ]
  },
  {
   "cell_type": "code",
   "execution_count": 9,
   "metadata": {},
   "outputs": [
    {
     "data": {
      "image/png": "[encoded data removed]",
      "text/plain": [
       "<matplotlib.figure.Figure at 0xac5b20ec>"
      ]
     },
     "metadata": {},
     "output_type": "display_data"
    }
   ],
   "source": [
    "# Create completely connected example graph\n",
    "G = nx.Graph()\n",
    "G.add_edges_from([(0,1), (0,2), (1,2), (1,3), (2,4)])\n",
    "\n",
    "# Plot at fixed positions\n",
    "plt.axis('off')\n",
    "pos={0:(0,0), 1:(-1, 1), 3:(-2, 2), 2:(1,1), 4:(2,2)}\n",
    "nx.draw_networkx(G, pos)\n",
    "plt.savefig('graph-theory-and-networkx-part2-fig3.eps')\n",
    "plt.show()"
   ]
  },
  {
   "cell_type": "markdown",
   "metadata": {},
   "source": [
    "We can see that we need to cut at least one edge to disconnect the graph (either the edge 2-4 or the edge 1-3). The function `edge_connectivity()` returns the number of cuts needed to disconnect the graph. If we feed it two nodes as additional input parameters, it returns the number of cuts needed to disconnect these two nodes."
   ]
  },
  {
   "cell_type": "code",
   "execution_count": 10,
   "metadata": {},
   "outputs": [
    {
     "name": "stdout",
     "output_type": "stream",
     "text": [
      "Number of cuts needed to disconnect network: 1\n",
      "Number of cuts needed to cut connection between node 1 and 2: 2\n"
     ]
    }
   ],
   "source": [
    "print(\"Number of cuts needed to disconnect network: {}\".format(nx.edge_connectivity(G)))\n",
    "print(\"Number of cuts needed to cut connection between node 1 and 2: {}\".format(nx.edge_connectivity(G, 1 , 2)))"
   ]
  },
  {
   "cell_type": "markdown",
   "metadata": {},
   "source": [
    "The function `minimum_edge_cut()` returns one of the possible sets of edges to cut. Again, we can feed-in an additional pair of nodes in order to disconnect these specific nodes."
   ]
  },
  {
   "cell_type": "code",
   "execution_count": 11,
   "metadata": {},
   "outputs": [
    {
     "name": "stdout",
     "output_type": "stream",
     "text": [
      "{(2, 4)}\n",
      "{(1, 2), (0, 2)}\n"
     ]
    }
   ],
   "source": [
    "print(nx.minimum_edge_cut(G))\n",
    "print(nx.minimum_edge_cut(G, 1, 2))"
   ]
  },
  {
   "cell_type": "markdown",
   "metadata": {},
   "source": [
    "A similar analysis is possible for the nodes of a network:"
   ]
  },
  {
   "cell_type": "code",
   "execution_count": 12,
   "metadata": {},
   "outputs": [
    {
     "name": "stdout",
     "output_type": "stream",
     "text": [
      "Number of nodes to delete to disconnect network: 1\n",
      "Number of nodes to delete to cut connection between node 1 and 4: 1\n"
     ]
    }
   ],
   "source": [
    "print(\"Number of nodes to delete to disconnect network: {}\".format(nx.node_connectivity(G)))\n",
    "print(\"Number of nodes to delete to cut connection between node 1 and 4: {}\".format(nx.node_connectivity(G, 1 , 4)))"
   ]
  },
  {
   "cell_type": "markdown",
   "metadata": {},
   "source": [
    "And one example of a set of nodes to achieve this:"
   ]
  },
  {
   "cell_type": "code",
   "execution_count": 13,
   "metadata": {},
   "outputs": [
    {
     "name": "stdout",
     "output_type": "stream",
     "text": [
      "{2}\n",
      "{2}\n"
     ]
    }
   ],
   "source": [
    "print(nx.minimum_node_cut(G))\n",
    "print(nx.minimum_node_cut(G, 1, 4))"
   ]
  },
  {
   "cell_type": "markdown",
   "metadata": {},
   "source": [
    "## Distance and Network Size"
   ]
  },
  {
   "cell_type": "markdown",
   "metadata": {},
   "source": [
    "A question naturally occuring in networks is the question of distances and how many \"steps\" it takes to get from one node to another.\n",
    "\n",
    "The minimum number of steps between two nodes and one example of an associated walk can be obtained using the `shortest_path()` and the `shortest_path_length()` function."
   ]
  },
  {
   "cell_type": "code",
   "execution_count": 14,
   "metadata": {},
   "outputs": [
    {
     "name": "stdout",
     "output_type": "stream",
     "text": [
      "Length of the shortest path between nodes 3 and 4:\n",
      "3\n",
      "Associated path:\n",
      "[3, 1, 2, 4]\n"
     ]
    }
   ],
   "source": [
    "print(\"Length of the shortest path between nodes 3 and 4:\")\n",
    "print(nx.shortest_path_length(G, 3, 4))\n",
    "print(\"Associated path:\")\n",
    "print(nx.shortest_path(G, 3, 4))"
   ]
  },
  {
   "cell_type": "markdown",
   "metadata": {},
   "source": [
    "If we want to know all shortest paths starting from a specific node, we can use the `shortest_path_length()` function:"
   ]
  },
  {
   "cell_type": "code",
   "execution_count": 15,
   "metadata": {},
   "outputs": [
    {
     "data": {
      "text/plain": [
       "{0: 2, 1: 1, 2: 2, 3: 0, 4: 3}"
      ]
     },
     "execution_count": 15,
     "metadata": {},
     "output_type": "execute_result"
    }
   ],
   "source": [
    "nx.shortest_path_length(G, 3)"
   ]
  },
  {
   "cell_type": "markdown",
   "metadata": {},
   "source": [
    "In order to calculate the shortest path, several algorithms can be used. One of them is the **breadth-first approach**. The resulting tree can be obtained using `bfs_tree()`: "
   ]
  },
  {
   "cell_type": "code",
   "execution_count": 16,
   "metadata": {
    "collapsed": true
   },
   "outputs": [],
   "source": [
    "# Create breadth first tree\n",
    "T = nx.bfs_tree(G, 3)"
   ]
  },
  {
   "cell_type": "markdown",
   "metadata": {},
   "source": [
    "The figure below shows the graph G on the left in red and the tree obtained through a breadth-first shortest path search for node 3 on the right in blue. Looking at the graph in this simple example it is straight forward to understand how the breadth-first-tree was obtained."
   ]
  },
  {
   "cell_type": "code",
   "execution_count": 17,
   "metadata": {
    "scrolled": false
   },
   "outputs": [
    {
     "data": {
      "image/png": "[encoded data removed]",
      "text/plain": [
       "<matplotlib.figure.Figure at 0xac5bcfac>"
      ]
     },
     "metadata": {},
     "output_type": "display_data"
    }
   ],
   "source": [
    "# Plotting G and breadth-first search tree T at fixed positions \n",
    "pos={3:(0,0), 1:(0,1), 2:(-1,2), 0:(1,2), 4:(-2,2)}\n",
    "\n",
    "plt.figure()\n",
    "\n",
    "# Plotting G\n",
    "plt.subplot(121)\n",
    "plt.axis('off')\n",
    "plt.title(\"Graph G\")\n",
    "nx.draw_networkx(G, pos)\n",
    "\n",
    "# Plotting T\n",
    "plt.subplot(122)\n",
    "plt.axis('off')\n",
    "plt.title(\"Breadth-first search tree \\nfor G starting from node 3\")\n",
    "nx.draw_networkx(T, pos, node_color='blue')\n",
    "\n",
    "plt.savefig('graph-theory-and-networkx-part2-fig4.eps')\n",
    "plt.show()"
   ]
  },
  {
   "cell_type": "markdown",
   "metadata": {},
   "source": [
    "Finally we can calculate the **average shortest path length** which is defined as the sum of all path-lengths normalized by the number of possible paths $n(n-1)$:\n",
    "\n",
    "$a(G) =\\sum_{s,t \\in V} \\frac{d(s, t)}{n(n-1)}$\n",
    "\n",
    "with $V$ being the nodes of the graph $G$, \n",
    "$d(s, t)$ the shortest path from node $s$ to node $t$ and $n$ the number of nodes in $G$. \n",
    "\n",
    "In networkx, we calculate the average shortest path using the `average_shortest_path()` function: "
   ]
  },
  {
   "cell_type": "code",
   "execution_count": 18,
   "metadata": {},
   "outputs": [
    {
     "data": {
      "text/plain": [
       "1.6"
      ]
     },
     "execution_count": 18,
     "metadata": {},
     "output_type": "execute_result"
    }
   ],
   "source": [
    "nx.average_shortest_path_length(G)"
   ]
  },
  {
   "cell_type": "markdown",
   "metadata": {},
   "source": [
    "Whilst calculating the average shortest path can give us an idea about typical distances, we might often be interested in asking what is the maximum shortest path for a node. Imagine a scenario where you want to build a distribution center. Intuitively it makes sense that this center should be \"well connected\". What we mean with well connected in this particular scenario is that from the center you should be able to reach all points in the network quickly. \n",
    "\n",
    "This is described by the **eccentricity** of a node. The eccentricity is the largest distance between one node $s$ and all other nodes $t$ of the network:\n",
    "\n",
    "$\\rm{eccentricity(s)} = \\max_{t \\in V} d(s,t)$\n",
    "\n",
    "If we compare the eccentricity of nodes 0 and 4 of our network G, we find that 0 has indeed a smaller eccentricity."
   ]
  },
  {
   "cell_type": "code",
   "execution_count": 19,
   "metadata": {},
   "outputs": [
    {
     "name": "stdout",
     "output_type": "stream",
     "text": [
      "2\n",
      "3\n"
     ]
    }
   ],
   "source": [
    "print(nx.eccentricity(G,0))\n",
    "print(nx.eccentricity(G,4))"
   ]
  },
  {
   "cell_type": "markdown",
   "metadata": {},
   "source": [
    "Having calculated the eccentricity for all nodes in the network, it can make sense to look for the minimum and maximum. The minimum -which is called **radius** of the network- tells us, \"how central\" our most central node is, the maximum -which is called **diameter**- tells us how far apart the two nodes furthest apart are.\n",
    "\n",
    "$\\rm{radius(G)}=\\min_{s\\in V} \\rm{eccentricity(s)}$\n",
    "\n",
    "$\\rm{diameter(G)}=\\max_{s\\in V} \\rm{eccentricity(s)}$"
   ]
  },
  {
   "cell_type": "code",
   "execution_count": 20,
   "metadata": {},
   "outputs": [
    {
     "name": "stdout",
     "output_type": "stream",
     "text": [
      "2\n",
      "3\n"
     ]
    }
   ],
   "source": [
    "print(nx.radius(G))\n",
    "print(nx.diameter(G))"
   ]
  },
  {
   "cell_type": "markdown",
   "metadata": {},
   "source": [
    "The nodes whose eccentricity equals radius or diameter of the network are called **center** and **periphery** respectively. These are the nodes which are very close (center) or very far away (periphery) from everything else. Again, we can use networkx to leverage the calculation for us:"
   ]
  },
  {
   "cell_type": "code",
   "execution_count": 21,
   "metadata": {},
   "outputs": [
    {
     "name": "stdout",
     "output_type": "stream",
     "text": [
      "[0, 1, 2]\n",
      "[3, 4]\n"
     ]
    }
   ],
   "source": [
    "print(nx.center(G))\n",
    "print(nx.periphery(G))"
   ]
  },
  {
   "cell_type": "markdown",
   "metadata": {},
   "source": [
    "In this post we have looked at connectivity and distances in a graph. We have learned to distinguish between connected and unconnected graphs and have looked at how stable a graph is under node or edge removal. Furthermore, we have introduced some basic vocabulary related to distances. In the next post, we will see how we can use these concepts to introduce the concept of centrality and see how we can quantify node or edge importance.\n",
    "\n",
    "I hope you enjoyed reading and hope to see you in the episode!"
   ]
  }
 ],
 "metadata": {
  "kernelspec": {
   "display_name": "Python 3",
   "language": "python",
   "name": "python3"
  },
  "language_info": {
   "codemirror_mode": {
    "name": "ipython",
    "version": 3
   },
   "file_extension": ".py",
   "mimetype": "text/x-python",
   "name": "python",
   "nbconvert_exporter": "python",
   "pygments_lexer": "ipython3",
   "version": "3.5.2"
  }
 },
 "nbformat": 4,
 "nbformat_minor": 2
}
