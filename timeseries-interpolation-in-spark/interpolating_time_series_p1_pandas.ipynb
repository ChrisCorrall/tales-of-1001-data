{
 "cells": [
  {
   "cell_type": "markdown",
   "metadata": {},
   "source": [
    "# Interpolating Time Series Data in Apache Spark and Python Pandas - Part 1: Pandas\n",
    "\n",
    "Note: Pandas version 0.20.1 (May 2017) changed the grouping API. This post reflects the functionality of the updated version.\n",
    "\n",
    "As we have all experienced (and I am sure suffered), real-world data is patchy most of the time and therefore a common first step in any data science task is data cleaning. Having recently moved from Pandas to Pyspark, I was used to the conveniences Pandas offers, which given to its distributed nature Pyspark is sometimes lacking. One of these features I have particularly been  missing recently is a straight-forward way of interpolating (or in-filling) time series data. Whilst the problem of in-filling missing values has been covered a few times (e.g. [here]), I was not able to find a source, which detailed the end-to-end process of generating the underlying time-grid and then subsequently filling in the missing values. This and the next post try to close this gap by detailing the process in both Pandas and Pyspark. This weeks post starts by demonstrating the process using Pandas data frames. Next week's post will show how to achieve the same functionality in PySpark. The full notebook for this post can be found [here in my github](https://github.com/walkenho/tales-of-1001-data/blob/master/timeseries-interpolation-in-spark/interpolating_time_series_p1_pandas.ipynb).\n",
    "\n",
    "## Preparing the Data and Initial Visualization"
   ]
  },
  {
   "cell_type": "code",
   "execution_count": 1,
   "metadata": {
    "collapsed": true
   },
   "outputs": [],
   "source": [
    "import pandas as pd\n",
    "import numpy as np\n",
    "import random\n",
    "import matplotlib.pyplot as plt\n",
    "import seaborn as sns\n",
    "%matplotlib inline"
   ]
  },
  {
   "cell_type": "markdown",
   "metadata": {},
   "source": [
    "First we generate a pandas data frame df0 with some test data. We create a data set containing two houses and use a $sin$ and a $cos$ function to generate some read data for a set of dates. To generate the missing values, we randomly drop half of the entries. "
   ]
  },
  {
   "cell_type": "code",
   "execution_count": 2,
   "metadata": {
    "collapsed": true
   },
   "outputs": [],
   "source": [
    "data = {'datetime': pd.date_range(start='1/15/2018', end='02/14/2018', freq='D')\\\n",
    "                .append(pd.date_range(start='1/15/2018', end='02/14/2018', freq='D')),\n",
    "        'house' : ['house1' for i in range(31)] + ['house2' for i in range(31)],\n",
    "        'readvalue':  [0.5 + 0.5*np.sin(2*np.pi/30*i) for i in range(31)]\\\n",
    "                    + [0.5 + 0.5*np.cos(2*np.pi/30*i) for i in range(31)]}\n",
    "df0 = pd.DataFrame(data, columns = ['datetime', 'house', 'readvalue'])\n",
    "\n",
    "# Randomly drop half the reads\n",
    "random.seed(42)\n",
    "df0 = df0.drop(random.sample(range(df0.shape[0]), k=int(df0.shape[0]/2)))"
   ]
  },
  {
   "cell_type": "markdown",
   "metadata": {},
   "source": [
    "This is how the data looks like. A $sin$ and a $cos$ with plenty of missing data points."
   ]
  },
  {
   "cell_type": "code",
   "execution_count": 3,
   "metadata": {
    "scrolled": true
   },
   "outputs": [
    {
     "data": {
      "image/png": "[encoded data removed]",
      "text/plain": [
       "<matplotlib.figure.Figure at 0xaab423ec>"
      ]
     },
     "metadata": {},
     "output_type": "display_data"
    }
   ],
   "source": [
    "# Generating a plot of the data with missing values\n",
    "\n",
    "# Setting figure size\n",
    "plt.rcParams[\"figure.figsize\"] = (12,3)\n",
    "\n",
    "# Generate colors using nices seaborn color palette\n",
    "colors = {\"house1\": sns.color_palette(\"Set1\", n_colors=8, desat=.5)[2],\\\n",
    "          \"house2\": sns.color_palette(\"Set1\", n_colors=8, desat=.5)[3]}\n",
    "\n",
    "fig, ax = plt.subplots()\n",
    "\n",
    "for myhouse in [\"house1\", \"house2\"]:\n",
    "    ax.scatter(pd.DatetimeIndex(df0[df0.house==myhouse]['datetime']),\\\n",
    "               df0[df0.house==myhouse]['readvalue'],\\\n",
    "               color=colors[myhouse])\n",
    "\n",
    "ax.set_xlabel(\"ReadDate\")\n",
    "ax.set_ylabel(\"ReadValue\")\n",
    "\n",
    "# Format x-axis to properly displays dates\n",
    "fig.autofmt_xdate()\n",
    "ax.set_xlim(min(pd.DatetimeIndex(df0['datetime'])), max(pd.DatetimeIndex(df0['datetime'])))\n",
    "\n",
    "plt.tight_layout()\n",
    "plt.savefig('interpolation_p1_fig1.jpg')\n",
    "plt.show()"
   ]
  },
  {
   "cell_type": "markdown",
   "metadata": {},
   "source": [
    "We will now look at three different methods of interpolating the missing read values: forward-filling, backward-filling and interpolating. Remember that it is crucial to choose the adequate interpolation method for the task at hand. Special care needs to be taken when looking at forecasting tasks (for example if you want to use your interpolated data for forecasting weather than you need to remember that you cannot interpolate the weather of today using the weather of tomorrow since it is still unknown).\n",
    "\n",
    "In order to interpolate the data, we will make use of the groupby() function followed by resample(). However, first we need to convert the read dates to datetime format and set them as index of our dataframe:"
   ]
  },
  {
   "cell_type": "code",
   "execution_count": 4,
   "metadata": {
    "collapsed": true
   },
   "outputs": [],
   "source": [
    "df = df0.copy()\n",
    "df['datetime'] = pd.to_datetime(df['datetime'])\n",
    "df.index = df['datetime']\n",
    "del df['datetime']"
   ]
  },
  {
   "cell_type": "markdown",
   "metadata": {},
   "source": [
    "This is how the structure of the dataframe looks like now:"
   ]
  },
  {
   "cell_type": "code",
   "execution_count": 5,
   "metadata": {
    "scrolled": false
   },
   "outputs": [
    {
     "data": {
      "text/html": [
       "<div>\n",
       "<style scoped>\n",
       "    .dataframe tbody tr th:only-of-type {\n",
       "        vertical-align: middle;\n",
       "    }\n",
       "\n",
       "    .dataframe tbody tr th {\n",
       "        vertical-align: top;\n",
       "    }\n",
       "\n",
       "    .dataframe thead th {\n",
       "        text-align: right;\n",
       "    }\n",
       "</style>\n",
       "<table border=\"1\" class=\"dataframe\">\n",
       "  <thead>\n",
       "    <tr style=\"text-align: right;\">\n",
       "      <th></th>\n",
       "      <th>house</th>\n",
       "      <th>readvalue</th>\n",
       "    </tr>\n",
       "    <tr>\n",
       "      <th>datetime</th>\n",
       "      <th></th>\n",
       "      <th></th>\n",
       "    </tr>\n",
       "  </thead>\n",
       "  <tbody>\n",
       "    <tr>\n",
       "      <th>2018-01-15</th>\n",
       "      <td>house1</td>\n",
       "      <td>0.5</td>\n",
       "    </tr>\n",
       "  </tbody>\n",
       "</table>\n",
       "</div>"
      ],
      "text/plain": [
       "             house  readvalue\n",
       "datetime                     \n",
       "2018-01-15  house1        0.5"
      ]
     },
     "execution_count": 5,
     "metadata": {},
     "output_type": "execute_result"
    }
   ],
   "source": [
    "df.head(1)"
   ]
  },
  {
   "cell_type": "markdown",
   "metadata": {},
   "source": [
    "## Interpolation \n",
    "\n",
    "Since we want to interpolate for each house separately, we need to group our data by 'house' before we can use the $resample()$ function with the option 'D' to resample the data to daily frequency. \n",
    "\n",
    "The next step is then to use mean-filling, forward-filling or backward-filling to determine how the newly generated grid is supposed to be filled.\n",
    "\n",
    "### mean()\n",
    "Since we are strictly upsampling, using the .mean() method, all missing read values are filled with NaNs:"
   ]
  },
  {
   "cell_type": "code",
   "execution_count": 6,
   "metadata": {},
   "outputs": [
    {
     "data": {
      "text/html": [
       "<div>\n",
       "<style scoped>\n",
       "    .dataframe tbody tr th:only-of-type {\n",
       "        vertical-align: middle;\n",
       "    }\n",
       "\n",
       "    .dataframe tbody tr th {\n",
       "        vertical-align: top;\n",
       "    }\n",
       "\n",
       "    .dataframe thead th {\n",
       "        text-align: right;\n",
       "    }\n",
       "</style>\n",
       "<table border=\"1\" class=\"dataframe\">\n",
       "  <thead>\n",
       "    <tr style=\"text-align: right;\">\n",
       "      <th></th>\n",
       "      <th></th>\n",
       "      <th>readvalue</th>\n",
       "    </tr>\n",
       "    <tr>\n",
       "      <th>house</th>\n",
       "      <th>datetime</th>\n",
       "      <th></th>\n",
       "    </tr>\n",
       "  </thead>\n",
       "  <tbody>\n",
       "    <tr>\n",
       "      <th rowspan=\"4\" valign=\"top\">house1</th>\n",
       "      <th>2018-01-15</th>\n",
       "      <td>0.500000</td>\n",
       "    </tr>\n",
       "    <tr>\n",
       "      <th>2018-01-16</th>\n",
       "      <td>NaN</td>\n",
       "    </tr>\n",
       "    <tr>\n",
       "      <th>2018-01-17</th>\n",
       "      <td>NaN</td>\n",
       "    </tr>\n",
       "    <tr>\n",
       "      <th>2018-01-18</th>\n",
       "      <td>0.793893</td>\n",
       "    </tr>\n",
       "  </tbody>\n",
       "</table>\n",
       "</div>"
      ],
      "text/plain": [
       "                   readvalue\n",
       "house  datetime             \n",
       "house1 2018-01-15   0.500000\n",
       "       2018-01-16        NaN\n",
       "       2018-01-17        NaN\n",
       "       2018-01-18   0.793893"
      ]
     },
     "execution_count": 6,
     "metadata": {},
     "output_type": "execute_result"
    }
   ],
   "source": [
    "df.groupby('house').resample('D').mean().head(4)"
   ]
  },
  {
   "cell_type": "markdown",
   "metadata": {},
   "source": [
    "### pad() - forward filling\n",
    "Using .pad() instead of .mean() forward-fills the NaNs."
   ]
  },
  {
   "cell_type": "code",
   "execution_count": 7,
   "metadata": {},
   "outputs": [
    {
     "data": {
      "text/html": [
       "<div>\n",
       "<style scoped>\n",
       "    .dataframe tbody tr th:only-of-type {\n",
       "        vertical-align: middle;\n",
       "    }\n",
       "\n",
       "    .dataframe tbody tr th {\n",
       "        vertical-align: top;\n",
       "    }\n",
       "\n",
       "    .dataframe thead th {\n",
       "        text-align: right;\n",
       "    }\n",
       "</style>\n",
       "<table border=\"1\" class=\"dataframe\">\n",
       "  <thead>\n",
       "    <tr style=\"text-align: right;\">\n",
       "      <th></th>\n",
       "      <th></th>\n",
       "      <th>readvalue</th>\n",
       "    </tr>\n",
       "    <tr>\n",
       "      <th>house</th>\n",
       "      <th>datetime</th>\n",
       "      <th></th>\n",
       "    </tr>\n",
       "  </thead>\n",
       "  <tbody>\n",
       "    <tr>\n",
       "      <th rowspan=\"4\" valign=\"top\">house1</th>\n",
       "      <th>2018-01-15</th>\n",
       "      <td>0.500000</td>\n",
       "    </tr>\n",
       "    <tr>\n",
       "      <th>2018-01-16</th>\n",
       "      <td>0.500000</td>\n",
       "    </tr>\n",
       "    <tr>\n",
       "      <th>2018-01-17</th>\n",
       "      <td>0.500000</td>\n",
       "    </tr>\n",
       "    <tr>\n",
       "      <th>2018-01-18</th>\n",
       "      <td>0.793893</td>\n",
       "    </tr>\n",
       "  </tbody>\n",
       "</table>\n",
       "</div>"
      ],
      "text/plain": [
       "                   readvalue\n",
       "house  datetime             \n",
       "house1 2018-01-15   0.500000\n",
       "       2018-01-16   0.500000\n",
       "       2018-01-17   0.500000\n",
       "       2018-01-18   0.793893"
      ]
     },
     "execution_count": 7,
     "metadata": {},
     "output_type": "execute_result"
    }
   ],
   "source": [
    "df_pad = df.groupby('house')\\\n",
    "            .resample('D')\\\n",
    "            .pad()\\\n",
    "            .drop('house', axis=1)\n",
    "df_pad.head(4)"
   ]
  },
  {
   "cell_type": "markdown",
   "metadata": {},
   "source": [
    "### bfill - backward filling\n",
    "Using .bfill() instead of .mean() backward-fills the NaNs:"
   ]
  },
  {
   "cell_type": "code",
   "execution_count": 8,
   "metadata": {},
   "outputs": [
    {
     "data": {
      "text/html": [
       "<div>\n",
       "<style scoped>\n",
       "    .dataframe tbody tr th:only-of-type {\n",
       "        vertical-align: middle;\n",
       "    }\n",
       "\n",
       "    .dataframe tbody tr th {\n",
       "        vertical-align: top;\n",
       "    }\n",
       "\n",
       "    .dataframe thead th {\n",
       "        text-align: right;\n",
       "    }\n",
       "</style>\n",
       "<table border=\"1\" class=\"dataframe\">\n",
       "  <thead>\n",
       "    <tr style=\"text-align: right;\">\n",
       "      <th></th>\n",
       "      <th></th>\n",
       "      <th>readvalue</th>\n",
       "    </tr>\n",
       "    <tr>\n",
       "      <th>house</th>\n",
       "      <th>datetime</th>\n",
       "      <th></th>\n",
       "    </tr>\n",
       "  </thead>\n",
       "  <tbody>\n",
       "    <tr>\n",
       "      <th rowspan=\"4\" valign=\"top\">house1</th>\n",
       "      <th>2018-01-15</th>\n",
       "      <td>0.500000</td>\n",
       "    </tr>\n",
       "    <tr>\n",
       "      <th>2018-01-16</th>\n",
       "      <td>0.793893</td>\n",
       "    </tr>\n",
       "    <tr>\n",
       "      <th>2018-01-17</th>\n",
       "      <td>0.793893</td>\n",
       "    </tr>\n",
       "    <tr>\n",
       "      <th>2018-01-18</th>\n",
       "      <td>0.793893</td>\n",
       "    </tr>\n",
       "  </tbody>\n",
       "</table>\n",
       "</div>"
      ],
      "text/plain": [
       "                   readvalue\n",
       "house  datetime             \n",
       "house1 2018-01-15   0.500000\n",
       "       2018-01-16   0.793893\n",
       "       2018-01-17   0.793893\n",
       "       2018-01-18   0.793893"
      ]
     },
     "execution_count": 8,
     "metadata": {},
     "output_type": "execute_result"
    }
   ],
   "source": [
    "df_bfill = df.groupby('house')\\\n",
    "            .resample('D')\\\n",
    "            .bfill()\\\n",
    "            .drop('house', axis=1)\n",
    "df_bfill.head(4)"
   ]
  },
  {
   "cell_type": "markdown",
   "metadata": {},
   "source": [
    "### interpolate() - interpolating\n",
    "If we want to mean interpolate the missing values, we need to do this in two steps. First, we generate the data grid by using .mean() to generate NaNs. Afterwards we fill the NaNs by interpolated values by calling the interpolate() method on the readvalue column:"
   ]
  },
  {
   "cell_type": "code",
   "execution_count": 9,
   "metadata": {
    "scrolled": true
   },
   "outputs": [
    {
     "data": {
      "text/html": [
       "<div>\n",
       "<style scoped>\n",
       "    .dataframe tbody tr th:only-of-type {\n",
       "        vertical-align: middle;\n",
       "    }\n",
       "\n",
       "    .dataframe tbody tr th {\n",
       "        vertical-align: top;\n",
       "    }\n",
       "\n",
       "    .dataframe thead th {\n",
       "        text-align: right;\n",
       "    }\n",
       "</style>\n",
       "<table border=\"1\" class=\"dataframe\">\n",
       "  <thead>\n",
       "    <tr style=\"text-align: right;\">\n",
       "      <th></th>\n",
       "      <th></th>\n",
       "      <th>readvalue</th>\n",
       "    </tr>\n",
       "    <tr>\n",
       "      <th>house</th>\n",
       "      <th>datetime</th>\n",
       "      <th></th>\n",
       "    </tr>\n",
       "  </thead>\n",
       "  <tbody>\n",
       "    <tr>\n",
       "      <th rowspan=\"4\" valign=\"top\">house1</th>\n",
       "      <th>2018-01-15</th>\n",
       "      <td>0.500000</td>\n",
       "    </tr>\n",
       "    <tr>\n",
       "      <th>2018-01-16</th>\n",
       "      <td>0.597964</td>\n",
       "    </tr>\n",
       "    <tr>\n",
       "      <th>2018-01-17</th>\n",
       "      <td>0.695928</td>\n",
       "    </tr>\n",
       "    <tr>\n",
       "      <th>2018-01-18</th>\n",
       "      <td>0.793893</td>\n",
       "    </tr>\n",
       "  </tbody>\n",
       "</table>\n",
       "</div>"
      ],
      "text/plain": [
       "                   readvalue\n",
       "house  datetime             \n",
       "house1 2018-01-15   0.500000\n",
       "       2018-01-16   0.597964\n",
       "       2018-01-17   0.695928\n",
       "       2018-01-18   0.793893"
      ]
     },
     "execution_count": 9,
     "metadata": {},
     "output_type": "execute_result"
    }
   ],
   "source": [
    "df_interpol = df.groupby('house')\\\n",
    "                .resample('D')\\\n",
    "                .mean()\n",
    "df_interpol['readvalue'] = df_interpol['readvalue'].interpolate()\n",
    "df_interpol.head(4)"
   ]
  },
  {
   "cell_type": "markdown",
   "metadata": {},
   "source": [
    "## Visualizing the Results\n",
    "Finally we can visualize the three different filling methods to get a better idea of their results. The opaque dots show the interpolated values.\n",
    "\n",
    "We can clearly see how in the top figure, the gaps have been filled with the last known value, in the middle figure, the gaps have been filled with the next value to come and in the bottom figure the difference has been interpolated."
   ]
  },
  {
   "cell_type": "code",
   "execution_count": 10,
   "metadata": {
    "scrolled": true
   },
   "outputs": [
    {
     "data": {
      "image/png": "[encoded data removed]",
      "text/plain": [
       "<matplotlib.figure.Figure at 0xa9a4f28c>"
      ]
     },
     "metadata": {},
     "output_type": "display_data"
    }
   ],
   "source": [
    "# Setting figure size\n",
    "plt.rcParams[\"figure.figsize\"] = (12,6)\n",
    "\n",
    "# Generate a list of dataframes to loop over\n",
    "dfs = []\n",
    "dfs.append(df_pad.reset_index())\n",
    "dfs.append(df_bfill.reset_index())\n",
    "dfs.append(df_interpol.reset_index())\n",
    "\n",
    "ylabel = ['pad', 'bfill', 'interpolate']\n",
    "\n",
    "n_df = len(dfs)\n",
    "fig, ax = plt.subplots(n_df)\n",
    "\n",
    "for myhouse in [\"house1\", \"house2\"]:\n",
    "\n",
    "    for i in range(n_df):\n",
    "        ax[i].scatter(pd.DatetimeIndex(dfs[i][dfs[i].house==myhouse]['datetime']), pd.to_numeric(dfs[i][dfs[i].house==myhouse]['readvalue']), color=colors[myhouse], alpha=0.5)\n",
    "        ax[i].scatter(pd.DatetimeIndex(df0[df0.house==myhouse]['datetime']), pd.to_numeric(df0[df0.house==myhouse]['readvalue']), color=colors[myhouse])\n",
    "        \n",
    "        ax[i].set_xlim(min(pd.DatetimeIndex(df0['datetime'])), max(pd.DatetimeIndex(df0['datetime'])))\n",
    "\n",
    "fig.autofmt_xdate()\n",
    "\n",
    "for i in range(n_df):\n",
    "    ax[i].set_ylabel(ylabel[i])\n",
    "\n",
    "# Adding another subplot in order to have common y-label\n",
    "fig.add_subplot(111, frameon=False)\n",
    "# hide tick and tick label of the common axes\n",
    "plt.tick_params(labelcolor='none', top='off', bottom='off', left='off', right='off')\n",
    "plt.grid(False)\n",
    "plt.xlabel('ReadDate', labelpad=40)\n",
    "plt.ylabel('ReadValue', labelpad=40)\n",
    "\n",
    "plt.tight_layout()\n",
    "plt.savefig('interpolation_p2_fig2.jpg')\n",
    "plt.show()\n",
    "plt.close()"
   ]
  },
  {
   "cell_type": "markdown",
   "metadata": {},
   "source": [
    "## Summary\n",
    "\n",
    "In this blog post we have seen how we can use Python Pandas to interpolate time series data using either backfill, forward fill or interpolation methods. Having used this example to set the scene, in the next post, we will see how to achieve the same thing using PySpark. "
   ]
  }
 ],
 "metadata": {
  "kernelspec": {
   "display_name": "Python 3",
   "language": "python",
   "name": "python3"
  },
  "language_info": {
   "codemirror_mode": {
    "name": "ipython",
    "version": 3
   },
   "file_extension": ".py",
   "mimetype": "text/x-python",
   "name": "python",
   "nbconvert_exporter": "python",
   "pygments_lexer": "ipython3",
   "version": "3.5.2"
  }
 },
 "nbformat": 4,
 "nbformat_minor": 2
}
