{
 "cells": [
  {
   "cell_type": "markdown",
   "metadata": {},
   "source": [
    "# Interpolating Time Series Data in Apache Spark and Python Pandas - Part 2: PySpark\n",
    "\n",
    "This is the second out of two posts about interpolating time series data using PySpark and Python Pandas. Last week, we have \n",
    "covered how to use three different interpolation methods (forward filling, backward filling, interpolation) in Pandas,\n",
    "this week, we cover how we can implement the same functionality in PySpark. Note that this notebook is not necessarily executable as is. The PySpark code just demonstrates how you would do the task in PySpark and can be copied and pasted into your environment."
   ]
  },
  {
   "cell_type": "code",
   "execution_count": 5,
   "metadata": {
    "collapsed": true
   },
   "outputs": [],
   "source": [
    "import pandas as pd\n",
    "import numpy as np\n",
    "import random\n",
    "import matplotlib.pyplot as plt\n",
    "import seaborn as sns"
   ]
  },
  {
   "cell_type": "markdown",
   "metadata": {},
   "source": [
    "## Preparing the Data and Visualization of the Problem\n",
    "\n",
    "We follow the same procedure as least week to generate a data set with missing values to interpolate. First we generate a pandas data frame with some test data. The data set contains data for two houses and uses a $sin$ and a $cos$ function to generate some read data for a set of dates. To generate the missing values, we randomly drop half of the entries."
   ]
  },
  {
   "cell_type": "code",
   "execution_count": 3,
   "metadata": {
    "collapsed": false
   },
   "outputs": [
    {
     "data": {
      "text/html": [
       "<div>\n",
       "<style scoped>\n",
       "    .dataframe tbody tr th:only-of-type {\n",
       "        vertical-align: middle;\n",
       "    }\n",
       "\n",
       "    .dataframe tbody tr th {\n",
       "        vertical-align: top;\n",
       "    }\n",
       "\n",
       "    .dataframe thead th {\n",
       "        text-align: right;\n",
       "    }\n",
       "</style>\n",
       "<table border=\"1\" class=\"dataframe\">\n",
       "  <thead>\n",
       "    <tr style=\"text-align: right;\">\n",
       "      <th></th>\n",
       "      <th>readtime</th>\n",
       "      <th>house</th>\n",
       "      <th>readvalue</th>\n",
       "    </tr>\n",
       "  </thead>\n",
       "  <tbody>\n",
       "    <tr>\n",
       "      <th>0</th>\n",
       "      <td>2018-01-15</td>\n",
       "      <td>house1</td>\n",
       "      <td>0.500000</td>\n",
       "    </tr>\n",
       "    <tr>\n",
       "      <th>3</th>\n",
       "      <td>2018-01-18</td>\n",
       "      <td>house1</td>\n",
       "      <td>0.793893</td>\n",
       "    </tr>\n",
       "    <tr>\n",
       "      <th>4</th>\n",
       "      <td>2018-01-19</td>\n",
       "      <td>house1</td>\n",
       "      <td>0.871572</td>\n",
       "    </tr>\n",
       "    <tr>\n",
       "      <th>9</th>\n",
       "      <td>2018-01-24</td>\n",
       "      <td>house1</td>\n",
       "      <td>0.975528</td>\n",
       "    </tr>\n",
       "    <tr>\n",
       "      <th>10</th>\n",
       "      <td>2018-01-25</td>\n",
       "      <td>house1</td>\n",
       "      <td>0.933013</td>\n",
       "    </tr>\n",
       "  </tbody>\n",
       "</table>\n",
       "</div>"
      ],
      "text/plain": [
       "     readtime   house  readvalue\n",
       "0  2018-01-15  house1   0.500000\n",
       "3  2018-01-18  house1   0.793893\n",
       "4  2018-01-19  house1   0.871572\n",
       "9  2018-01-24  house1   0.975528\n",
       "10 2018-01-25  house1   0.933013"
      ]
     },
     "execution_count": 3,
     "metadata": {},
     "output_type": "execute_result"
    }
   ],
   "source": [
    "data = {'readtime': pd.date_range(start='1/15/2018', end='02/14/2018', freq='D')\\\n",
    "                .append(pd.date_range(start='1/15/2018', end='02/14/2018', freq='D')),\n",
    "        'house' : ['house1' for i in range(31)] + ['house2' for i in range(31)],\n",
    "        'readvalue': [0.5+0.5*np.sin(2*np.pi/30*i) for i in range(31)]\\\n",
    "                + [0.5+0.5*np.cos(2*np.pi/30*i) for i in range(31)]}\n",
    "df0 = pd.DataFrame(data, columns = ['readtime', 'house', 'readvalue'])\n",
    "\n",
    "random.seed(42)\n",
    "df0 = df0.drop(random.sample(range(df0.shape[0]), k=int(df0.shape[0]/2)))\n",
    "df0.head()"
   ]
  },
  {
   "cell_type": "markdown",
   "metadata": {},
   "source": [
    "The following graph shows the data with the missing values clearly visible."
   ]
  },
  {
   "cell_type": "code",
   "execution_count": 9,
   "metadata": {
    "collapsed": false
   },
   "outputs": [
    {
     "data": {
      "image/png": "[encoded data removed]",
      "text/plain": [
       "<matplotlib.figure.Figure at 0xf959510>"
      ]
     },
     "metadata": {},
     "output_type": "display_data"
    }
   ],
   "source": [
    "# Generating a plot of the data with missing values\n",
    "\n",
    "# Setting figure size\n",
    "plt.rcParams[\"figure.figsize\"] = (12,3)\n",
    "\n",
    "# Generate colors using nices seaborn color palette\n",
    "colors = {\"house1\": sns.color_palette(\"Set1\", n_colors=8, desat=.5)[2],\\\n",
    "          \"house2\": sns.color_palette(\"Set1\", n_colors=8, desat=.5)[3]}\n",
    "\n",
    "fig, ax = plt.subplots()\n",
    "\n",
    "for myhouse in [\"house1\", \"house2\"]:\n",
    "    ax.scatter(pd.DatetimeIndex(df0[df0.house==myhouse]['readtime']),\\\n",
    "               df0[df0.house==myhouse]['readvalue'],\\\n",
    "               color=colors[myhouse])\n",
    "\n",
    "ax.set_xlabel(\"ReadDate\")\n",
    "ax.set_ylabel(\"ReadValue\")\n",
    "\n",
    "# Format x-axis to properly displays dates\n",
    "fig.autofmt_xdate()\n",
    "ax.set_xlim(min(pd.DatetimeIndex(df0['readtime'])), max(pd.DatetimeIndex(df0['readtime'])))\n",
    "\n",
    "plt.tight_layout()\n",
    "plt.show()"
   ]
  },
  {
   "cell_type": "markdown",
   "metadata": {},
   "source": [
    "In order to work with PySpark, we convert the Pandas data frame into a Spark data frame. We need to divide the datetime by 10^9 since the unit of time is different for pandas datetime and spark. We also add the column 'readtime_existent' to keep track of which values are missing and which are not."
   ]
  },
  {
   "cell_type": "code",
   "execution_count": null,
   "metadata": {
    "collapsed": true
   },
   "outputs": [],
   "source": [
    "import pyspark.sql.functions as func\n",
    "from pyspark.sql.functions import col\n",
    "\n",
    "df = spark.createDataFrame(df0)\n",
    "df = df.withColumn(\"readtime\", col('readtime')/1e9)\\\n",
    "        .withColumn(\"readtime_existent\", col(\"readtime\"))\n",
    "df.show(3)"
   ]
  },
  {
   "cell_type": "markdown",
   "metadata": {},
   "source": [
    "+-----------+------+------------------+-----------------+\n",
    "|   readtime| house|         readvalue|readtime_existent|\n",
    "+-----------+------+------------------+-----------------+\n",
    "|1.5159744E9|house1|               0.5|      1.5159744E9|\n",
    "|1.5162336E9|house1|0.7938926261462366|      1.5162336E9|\n",
    "|  1.51632E9|house1| 0.871572412738697|        1.51632E9|\n",
    "+-----------+------+------------------+-----------------+"
   ]
  },
  {
   "cell_type": "markdown",
   "metadata": {},
   "source": [
    "## Interpolation\n",
    "### Resampling the Read Datetime\n",
    "\n",
    "As in Pandas, the first step is to resample the time data. However, unfortunately Spark does not provide an equivalent to Pandas *resample()* method. Our workaround is generating an array containing an equally spaced time grid between the mininmum and maximum time. The trick here is to first group the read data by house, then create the respective array for each house and use the sql function *explode()* to convert the array into a column. The resulting structure is then used as basis to which we add the read value information for the times where it exists using a left outer join. The following code shows how this is done. "
   ]
  },
  {
   "cell_type": "code",
   "execution_count": null,
   "metadata": {
    "collapsed": true
   },
   "outputs": [],
   "source": [
    "from pyspark.sql.types import *\n",
    "\n",
    "# define function to create date range\n",
    "def date_range(t1, t2, step=60*60*24):\n",
    "    \"\"\"Returns a list of equally spaced points between t1 and t2 with stepsize step.\"\"\"\n",
    "    return [t1 + step*x for x in range(int((t2-t1)/step)+1)]\n",
    "\n",
    "# define udf\n",
    "date_range_udf = func.udf(date_range, ArrayType(LongType()))\n",
    "\n",
    "# group data by house, obtain min and max time by house, create time arrays and explode them\n",
    "df_base = \\\n",
    "    df.groupBy('house')\\\n",
    "        .agg(func.min('readtime').cast('integer').alias('readtime_min'), func.max('readtime').cast('integer').alias('readtime_max'))\\\n",
    "        .withColumn(\"readtime\", func.explode(date_range_udf(\"readtime_min\", \"readtime_max\")))\\\n",
    "        .drop('readtime_min', 'readtime_max')\n",
    "\n",
    "# left outer join existing read values\n",
    "df_all_dates = df_base.join(df, [\"house\", \"readtime\"], \"leftouter\")"
   ]
  },
  {
   "cell_type": "markdown",
   "metadata": {},
   "source": [
    "The resulting table looks like this:"
   ]
  },
  {
   "cell_type": "markdown",
   "metadata": {},
   "source": [
    "+------+----------+--------------------+-----------------+\n",
    "| house|  readtime|           readvalue|readtime_existent|\n",
    "+------+----------+--------------------+-----------------+\n",
    "|house2|1516924800| 0.16543469682057105|      1.5169248E9|\n",
    "|house2|1516060800|                null|             null|\n",
    "|house2|1516665600| 0.44773576836617335|      1.5166656E9|\n",
    "|house1|1517184000|                null|             null|\n",
    "|house1|1517961600|0.002739052315863...|      1.5179616E9|\n",
    "+------+----------+--------------------+-----------------+"
   ]
  },
  {
   "cell_type": "markdown",
   "metadata": {},
   "source": [
    "### Forward-fill and Backward-fill Using Window Functions\n",
    "When using a forward-fill, we fill-in the missing data with the latest known value before now. In contrast, when using a backwards-fill, we fill-in the data with the next known value. This idea of looking at a subset of data is well known and used in SQL and can be implemented using the *pyspark.sql.Window* function in combination with *last()* and *first()*. The crucial part in both cases is to use the *ignorenulls=True* argument. On the partitioned and sorted data, we look for:\n",
    "\n",
    "* forward-fill: the last not-null value in the window ranging from minus infinity to now\n",
    "* backward-fill: the first not-null value in the window ranging from now to plus infinity\n",
    "\n",
    "Here is how to create the interpolated columns and add them to the data frame. We also keep the interpolated read times since we will need them for the interpolation."
   ]
  },
  {
   "cell_type": "code",
   "execution_count": null,
   "metadata": {
    "collapsed": true
   },
   "outputs": [],
   "source": [
    "from pyspark.sql import Window\n",
    "import sys\n",
    "\n",
    "window_ff = Window.partitionBy('house')\\\n",
    "               .orderBy('readtime')\\\n",
    "               .rowsBetween(-sys.maxsize, 0)\n",
    "               \n",
    "window_bf = Window.partitionBy('house')\\\n",
    "               .orderBy('readtime')\\\n",
    "               .rowsBetween(0, sys.maxsize)\n",
    "        \n",
    "# create the series containing the filled values\n",
    "read_last = func.last(df_all_dates['readvalue'], ignorenulls=True).over(window_ff)\n",
    "readtime_last = func.last(df_all_dates['readtime_existent'], ignorenulls=True).over(window_ff)\n",
    "\n",
    "read_next = func.first(df_all_dates['readvalue'], ignorenulls=True).over(window_bf)\n",
    "readtime_next = func.first(df_all_dates['readtime_existent'], ignorenulls=True).over(window_bf)\n",
    "\n",
    "# add the columns to the dataframe\n",
    "df_filled = df_all_dates.withColumn('readvalue_ff', read_last)\\\n",
    "                        .withColumn('readtime_ff', readtime_last)\\\n",
    "                        .withColumn('readvalue_bf', read_next)\\\n",
    "                        .withColumn('readtime_bf', readtime_next)"
   ]
  },
  {
   "cell_type": "markdown",
   "metadata": {},
   "source": [
    "### Interpolation\n",
    "\n",
    "Finally we use the forward filled and backwards filled data to interpolate both read datetimes and read values using a simple spline. This can be done using a user-defined function."
   ]
  },
  {
   "cell_type": "code",
   "execution_count": null,
   "metadata": {
    "collapsed": true
   },
   "outputs": [],
   "source": [
    "# define interpolation function\n",
    "def interpol(x, x_prev, x_next, y_prev, y_next, y):\n",
    "    if x_prev == x_next:\n",
    "        return y\n",
    "    else:\n",
    "        m = (y_next-y_prev)/(x_next-x_prev)\n",
    "        y_interpol = y_prev + m * (x - x_prev)\n",
    "        return y_interpol\n",
    "\n",
    "# convert function to udf\n",
    "interpol_udf = func.udf(interpol, FloatType())   \n",
    "    \n",
    "# add interpolated columns to dataframe and clean up\n",
    "df_filled = df_filled.withColumn('readvalue_interpol', interpol_udf('readtime', 'readtime_ff', 'readtime_bf', 'readvalue_ff', 'readvalue_bf', 'readvalue'))\\\n",
    "                    .drop('readtime_existent', 'readtime_ff', 'readtime_bf')\\\n",
    "                    .withColumnRenamed('reads_all', 'readvalue')\\\n",
    "                    .withColumn('readtime', func.from_unixtime(col('readtime')))"
   ]
  },
  {
   "cell_type": "markdown",
   "metadata": {},
   "source": [
    "This leaves us with a single dataframe containing all of the interpolation methods. This is how its structure looks like:\n",
    "\n",
    "+------+-------------------+------------------+------------------+------------------+------------------+\n",
    "| house|           readtime|         readvalue|      readvalue_ff|      readvalue_bf|readvalue_interpol|\n",
    "+------+-------------------+------------------+------------------+------------------+------------------+\n",
    "|house1|2018-01-15 00:00:00|               0.5|               0.5|               0.5|               0.5|\n",
    "|house1|2018-01-16 00:00:00|              null|               0.5|0.7938926261462366|         0.5979642|\n",
    "|house1|2018-01-17 00:00:00|              null|               0.5|0.7938926261462366|         0.6959284|\n",
    "|house1|2018-01-18 00:00:00|0.7938926261462366|0.7938926261462366|0.7938926261462366|         0.7938926|\n",
    "|house1|2018-01-19 00:00:00| 0.871572412738697| 0.871572412738697| 0.871572412738697|        0.87157243|\n",
    "+------+-------------------+------------------+------------------+------------------+------------------+"
   ]
  },
  {
   "cell_type": "markdown",
   "metadata": {},
   "source": [
    "Finally we can visualize the results to observe the differences between the interpolation techniques. The opaque dots show the interpolated values.\n",
    "\n",
    "We can clearly see how in the top figure, the gaps have been filled with the last known value, in the middle figure, the gaps have been filled with the next value to come and in the bottom figure the difference has been interpolated."
   ]
  },
  {
   "cell_type": "code",
   "execution_count": null,
   "metadata": {
    "collapsed": true
   },
   "outputs": [],
   "source": [
    "df_pd = df_filled.sort('house', 'readtime').toPandas()\n",
    "\n",
    "plt.rcParams[\"figure.figsize\"] = (12,6)\n",
    "\n",
    "# Generate colors using nices seaborn color palette\n",
    "colors = {\"house1\": sns.color_palette(\"Set1\", n_colors=8, desat=.5)[2],\\\n",
    "          \"house2\": sns.color_palette(\"Set1\", n_colors=8, desat=.5)[3]}\n",
    "\n",
    "dfs = []\n",
    "dfs.append(df_pd[['house', 'readtime', 'readvalue_ff']].rename(index=str, columns={\"readtime\":\"datetime\", \"readvalue_ff\":\"readvalue\"}).reset_index())\n",
    "dfs.append(df_pd[['house', 'readtime', 'readvalue_bf']].rename(index=str, columns={\"readtime\":\"datetime\", \"readvalue_bf\":\"readvalue\"}).reset_index())\n",
    "dfs.append(df_pd[['house', 'readtime', 'readvalue_interpol']].rename(index=str, columns={\"readtime\":\"datetime\", \"readvalue_interpol\":\"readvalue\"}).reset_index())\n",
    "\n",
    "ylabel = ['pad', 'bfill', 'interpolate']\n",
    "\n",
    "n_df = len(dfs)\n",
    "fig, ax = plt.subplots(n_df)\n",
    "\n",
    "for myhouse in [\"house1\", \"house2\"]:\n",
    "    for i in range(n_df):\n",
    "        ax[i].scatter(pd.DatetimeIndex(dfs[i][dfs[i].house==myhouse]['datetime']), pd.to_numeric(dfs[i][dfs[i].house==myhouse]['readvalue']), color=colors[myhouse], alpha=0.5)\n",
    "        ax[i].scatter(pd.DatetimeIndex(df0[df0.house==myhouse]['readtime']), pd.to_numeric(df0[df0.house==myhouse]['readvalue']), color=colors[myhouse])        \n",
    "        ax[i].set_xlim(min(pd.DatetimeIndex(df0['readtime'])), max(pd.DatetimeIndex(df0['readtime'])))\n",
    "\n",
    "fig.autofmt_xdate()\n",
    "\n",
    "for i in range(n_df):\n",
    "    ax[i].set_ylabel(ylabel[i])\n",
    "\n",
    "# Adding another subplot in order to have common y-label\n",
    "fig.add_subplot(111, frameon=False)\n",
    "# hide tick and tick label of the common axes\n",
    "plt.tick_params(labelcolor='none', top='off', bottom='off', left='off', right='off')\n",
    "plt.grid(False)\n",
    "plt.xlabel('ReadDate', labelpad=40)\n",
    "plt.ylabel('ReadValue', labelpad=40)\n",
    "\n",
    "plt.show()\n",
    "plt.close()"
   ]
  }
 ],
 "metadata": {
  "kernelspec": {
   "display_name": "Python 3",
   "language": "python",
   "name": "python3"
  },
  "language_info": {
   "codemirror_mode": {
    "name": "ipython",
    "version": 3
   },
   "file_extension": ".py",
   "mimetype": "text/x-python",
   "name": "python",
   "nbconvert_exporter": "python",
   "pygments_lexer": "ipython3",
   "version": "3.6.0"
  }
 },
 "nbformat": 4,
 "nbformat_minor": 2
}
